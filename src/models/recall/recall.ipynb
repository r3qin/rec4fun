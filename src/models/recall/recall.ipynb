{
 "cells": [
  {
   "cell_type": "code",
   "execution_count": 6,
   "id": "8e92fa3d",
   "metadata": {},
   "outputs": [],
   "source": [
    "import os\n",
    "import json\n",
    "import time\n",
    "import numpy as np\n",
    "import pandas as pd\n",
    "\n",
    "from tqdm.auto import tqdm\n",
    "from collections import defaultdict\n",
    "from collections import Counter\n",
    "\n",
    "import fasttext\n",
    "import faiss\n",
    "\n",
    "from tqdm.auto import tqdm"
   ]
  },
  {
   "cell_type": "code",
   "execution_count": 3,
   "id": "894af0d4",
   "metadata": {},
   "outputs": [
    {
     "data": {
      "text/html": [
       "<div>\n",
       "<style scoped>\n",
       "    .dataframe tbody tr th:only-of-type {\n",
       "        vertical-align: middle;\n",
       "    }\n",
       "\n",
       "    .dataframe tbody tr th {\n",
       "        vertical-align: top;\n",
       "    }\n",
       "\n",
       "    .dataframe thead th {\n",
       "        text-align: right;\n",
       "    }\n",
       "</style>\n",
       "<table border=\"1\" class=\"dataframe\">\n",
       "  <thead>\n",
       "    <tr style=\"text-align: right;\">\n",
       "      <th></th>\n",
       "      <th>session</th>\n",
       "      <th>aid</th>\n",
       "      <th>ts</th>\n",
       "      <th>type</th>\n",
       "    </tr>\n",
       "  </thead>\n",
       "  <tbody>\n",
       "    <tr>\n",
       "      <th>0</th>\n",
       "      <td>0</td>\n",
       "      <td>1517085</td>\n",
       "      <td>1659304800025</td>\n",
       "      <td>clicks</td>\n",
       "    </tr>\n",
       "    <tr>\n",
       "      <th>1</th>\n",
       "      <td>0</td>\n",
       "      <td>1563459</td>\n",
       "      <td>1659304904511</td>\n",
       "      <td>clicks</td>\n",
       "    </tr>\n",
       "    <tr>\n",
       "      <th>2</th>\n",
       "      <td>0</td>\n",
       "      <td>1309446</td>\n",
       "      <td>1659367439426</td>\n",
       "      <td>clicks</td>\n",
       "    </tr>\n",
       "    <tr>\n",
       "      <th>3</th>\n",
       "      <td>0</td>\n",
       "      <td>16246</td>\n",
       "      <td>1659367719997</td>\n",
       "      <td>clicks</td>\n",
       "    </tr>\n",
       "    <tr>\n",
       "      <th>4</th>\n",
       "      <td>0</td>\n",
       "      <td>1781822</td>\n",
       "      <td>1659367871344</td>\n",
       "      <td>clicks</td>\n",
       "    </tr>\n",
       "  </tbody>\n",
       "</table>\n",
       "</div>"
      ],
      "text/plain": [
       "   session      aid             ts    type\n",
       "0        0  1517085  1659304800025  clicks\n",
       "1        0  1563459  1659304904511  clicks\n",
       "2        0  1309446  1659367439426  clicks\n",
       "3        0    16246  1659367719997  clicks\n",
       "4        0  1781822  1659367871344  clicks"
      ]
     },
     "execution_count": 3,
     "metadata": {},
     "output_type": "execute_result"
    }
   ],
   "source": [
    "data_path = '../data/train_sessions.jsonl'\n",
    "  \n",
    "train_sessions = pd.DataFrame()\n",
    "chunks = pd.read_json(data_path, lines=True, chunksize=100_000)\n",
    "\n",
    "for e, chunk in enumerate(chunks):\n",
    "    event_dict = {\n",
    "        'session': [],\n",
    "        'aid': [],\n",
    "        'ts': [],\n",
    "        'type': [],\n",
    "    }\n",
    "    if e < 2:\n",
    "        # train_sessions = pd.concat([train_sessions, chunk])\n",
    "        for session, events in zip(chunk['session'].tolist(), chunk['events'].tolist()):\n",
    "            for event in events:\n",
    "                event_dict['session'].append(session)\n",
    "                event_dict['aid'].append(event['aid'])\n",
    "                event_dict['ts'].append(event['ts'])\n",
    "                event_dict['type'].append(event['type'])\n",
    "        chunk_session = pd.DataFrame(event_dict)\n",
    "        train_sessions = pd.concat([train_sessions, chunk_session])\n",
    "    else:\n",
    "        break\n",
    "        \n",
    "train_sessions = train_sessions.reset_index(drop=True)\n",
    "train_sessions.head()"
   ]
  },
  {
   "cell_type": "markdown",
   "id": "27205da9",
   "metadata": {},
   "source": [
    "## Hot"
   ]
  },
  {
   "cell_type": "code",
   "execution_count": 20,
   "id": "49583e62",
   "metadata": {},
   "outputs": [
    {
     "data": {
      "text/html": [
       "<div>\n",
       "<style scoped>\n",
       "    .dataframe tbody tr th:only-of-type {\n",
       "        vertical-align: middle;\n",
       "    }\n",
       "\n",
       "    .dataframe tbody tr th {\n",
       "        vertical-align: top;\n",
       "    }\n",
       "\n",
       "    .dataframe thead th {\n",
       "        text-align: right;\n",
       "    }\n",
       "</style>\n",
       "<table border=\"1\" class=\"dataframe\">\n",
       "  <thead>\n",
       "    <tr style=\"text-align: right;\">\n",
       "      <th></th>\n",
       "      <th>aid</th>\n",
       "      <th>score</th>\n",
       "    </tr>\n",
       "  </thead>\n",
       "  <tbody>\n",
       "    <tr>\n",
       "      <th>0</th>\n",
       "      <td>29735</td>\n",
       "      <td>6727</td>\n",
       "    </tr>\n",
       "    <tr>\n",
       "      <th>1</th>\n",
       "      <td>1603001</td>\n",
       "      <td>6349</td>\n",
       "    </tr>\n",
       "    <tr>\n",
       "      <th>2</th>\n",
       "      <td>1733943</td>\n",
       "      <td>6232</td>\n",
       "    </tr>\n",
       "    <tr>\n",
       "      <th>3</th>\n",
       "      <td>80222</td>\n",
       "      <td>6079</td>\n",
       "    </tr>\n",
       "    <tr>\n",
       "      <th>4</th>\n",
       "      <td>832192</td>\n",
       "      <td>5651</td>\n",
       "    </tr>\n",
       "  </tbody>\n",
       "</table>\n",
       "</div>"
      ],
      "text/plain": [
       "       aid  score\n",
       "0    29735   6727\n",
       "1  1603001   6349\n",
       "2  1733943   6232\n",
       "3    80222   6079\n",
       "4   832192   5651"
      ]
     },
     "execution_count": 20,
     "metadata": {},
     "output_type": "execute_result"
    }
   ],
   "source": [
    "hot_df = train_sessions.copy()\n",
    "hot_df[\"score\"] = hot_df.type.replace([\"clicks\", \"carts\", \"orders\"], [1, 2, 3])\n",
    "hot_df = hot_df.groupby([\"aid\"]).sum()[\"score\"].sort_values(ascending=False).reset_index()\n",
    "hot_df.head()"
   ]
  },
  {
   "cell_type": "markdown",
   "id": "f4864bd6",
   "metadata": {},
   "source": [
    "## Item2Vec"
   ]
  },
  {
   "cell_type": "code",
   "execution_count": 4,
   "id": "551ac0e4",
   "metadata": {},
   "outputs": [
    {
     "data": {
      "text/html": [
       "<div>\n",
       "<style scoped>\n",
       "    .dataframe tbody tr th:only-of-type {\n",
       "        vertical-align: middle;\n",
       "    }\n",
       "\n",
       "    .dataframe tbody tr th {\n",
       "        vertical-align: top;\n",
       "    }\n",
       "\n",
       "    .dataframe thead th {\n",
       "        text-align: right;\n",
       "    }\n",
       "</style>\n",
       "<table border=\"1\" class=\"dataframe\">\n",
       "  <thead>\n",
       "    <tr style=\"text-align: right;\">\n",
       "      <th></th>\n",
       "      <th>session</th>\n",
       "      <th>aid</th>\n",
       "    </tr>\n",
       "  </thead>\n",
       "  <tbody>\n",
       "    <tr>\n",
       "      <th>0</th>\n",
       "      <td>0</td>\n",
       "      <td>[1517085, 1563459, 1309446, 16246, 1781822, 11...</td>\n",
       "    </tr>\n",
       "    <tr>\n",
       "      <th>1</th>\n",
       "      <td>1</td>\n",
       "      <td>[424964, 1492293, 910862, 1491172, 424964, 151...</td>\n",
       "    </tr>\n",
       "    <tr>\n",
       "      <th>2</th>\n",
       "      <td>2</td>\n",
       "      <td>[763743, 137492, 504789, 137492, 795863, 37834...</td>\n",
       "    </tr>\n",
       "    <tr>\n",
       "      <th>3</th>\n",
       "      <td>3</td>\n",
       "      <td>[1425967, 1343406, 1425967, 1343406, 1815570, ...</td>\n",
       "    </tr>\n",
       "    <tr>\n",
       "      <th>4</th>\n",
       "      <td>4</td>\n",
       "      <td>[613619, 298827, 383828, 255379, 1838173, 1453...</td>\n",
       "    </tr>\n",
       "  </tbody>\n",
       "</table>\n",
       "</div>"
      ],
      "text/plain": [
       "   session                                                aid\n",
       "0        0  [1517085, 1563459, 1309446, 16246, 1781822, 11...\n",
       "1        1  [424964, 1492293, 910862, 1491172, 424964, 151...\n",
       "2        2  [763743, 137492, 504789, 137492, 795863, 37834...\n",
       "3        3  [1425967, 1343406, 1425967, 1343406, 1815570, ...\n",
       "4        4  [613619, 298827, 383828, 255379, 1838173, 1453..."
      ]
     },
     "execution_count": 4,
     "metadata": {},
     "output_type": "execute_result"
    }
   ],
   "source": [
    "aid_seq = train_sessions.sort_values([\"session\", \"ts\"]).reset_index(drop=True)\n",
    "aid_seq[\"aid_2\"] = aid_seq.aid.shift(1)\n",
    "aid_seq = aid_seq[aid_seq.aid != aid_seq.aid_2]\n",
    "aid_seq = aid_seq[[\"session\", \"aid\", \"ts\", \"type\"]]\n",
    "aid_seq[\"aid\"] = aid_seq[\"aid\"].astype(str)\n",
    "aid_seq = aid_seq.groupby([\"session\"]).agg(list)[\"aid\"].reset_index()\n",
    "aid_seq = aid_seq[(aid_seq.aid.apply(len) >= 5)].reset_index(drop=True)\n",
    "aid_seq.head()"
   ]
  },
  {
   "cell_type": "code",
   "execution_count": 7,
   "id": "86d429ce",
   "metadata": {},
   "outputs": [
    {
     "name": "stderr",
     "output_type": "stream",
     "text": [
      "Read 8M words\n",
      "Number of words:  275012\n",
      "Number of labels: 1\n",
      "Progress: 100.0% words/sec/thread:   62271 lr:  0.000000 avg.loss:  2.700827 ETA:   0h 0m 0s\n"
     ]
    }
   ],
   "source": [
    "with open(\"../data/train_aid_seq.txt\", 'w') as f:\n",
    "    for aid_list in aid_seq.aid:\n",
    "        print(\"__label__1\", \" \".join(aid_list), file = f)\n",
    "        \n",
    "model = fasttext.train_unsupervised(\n",
    "    '../data/train_aid_seq.txt', \n",
    "    model = 'skipgram',\n",
    "    ws = 5,\n",
    "    dim = 128, \n",
    "    epoch = 5, \n",
    "    lr = 0.01,\n",
    "    minn = 0,\n",
    "    maxn = 0\n",
    ")"
   ]
  },
  {
   "cell_type": "code",
   "execution_count": 8,
   "id": "97941f8d",
   "metadata": {},
   "outputs": [
    {
     "data": {
      "application/vnd.jupyter.widget-view+json": {
       "model_id": "b70e2e6221264ea5b3f51b17a2c90f0a",
       "version_major": 2,
       "version_minor": 0
      },
      "text/plain": [
       "0it [00:00, ?it/s]"
      ]
     },
     "metadata": {},
     "output_type": "display_data"
    }
   ],
   "source": [
    "item_dict = {}\n",
    "embeddings = []\n",
    "for i, item_id in enumerate(model.words):\n",
    "    if item_id != '</s>':\n",
    "        item_dict[i-1] = item_id\n",
    "        embeddings.append(model[item_id])\n",
    "    \n",
    "index_data = np.array(embeddings)\n",
    "faiss.normalize_L2(index_data)\n",
    "index = faiss.IndexHNSWFlat(128, 32, faiss.METRIC_INNER_PRODUCT)\n",
    "\n",
    "index.add(index_data)\n",
    "sim_matrix, candidate_ids_matrix = index.search(index_data, 20)\n",
    "\n",
    "sim_index = []\n",
    "for idx, candidate_ids in tqdm(enumerate(candidate_ids_matrix)):\n",
    "    sims = sim_matrix[idx]\n",
    "    candidates = list(zip(candidate_ids, sims))\n",
    "    candidates = list(filter(lambda x: x[0] != idx, candidates))\n",
    "    candidates = list(filter(lambda x: x[0] in item_dict, candidates))\n",
    "    sim_index.extend([(item_dict[idx], item_dict[x[0]], float(x[1])) for x in candidates])"
   ]
  },
  {
   "cell_type": "code",
   "execution_count": null,
   "id": "12fbfc5e",
   "metadata": {},
   "outputs": [],
   "source": []
  }
 ],
 "metadata": {
  "kernelspec": {
   "display_name": "Python 3 (ipykernel)",
   "language": "python",
   "name": "python3"
  },
  "language_info": {
   "codemirror_mode": {
    "name": "ipython",
    "version": 3
   },
   "file_extension": ".py",
   "mimetype": "text/x-python",
   "name": "python",
   "nbconvert_exporter": "python",
   "pygments_lexer": "ipython3",
   "version": "3.9.13"
  }
 },
 "nbformat": 4,
 "nbformat_minor": 5
}
