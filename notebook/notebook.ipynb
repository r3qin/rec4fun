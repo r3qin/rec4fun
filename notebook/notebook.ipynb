{
 "cells": [
  {
   "cell_type": "markdown",
   "id": "577ad41c",
   "metadata": {},
   "source": [
    "## Libraries"
   ]
  },
  {
   "cell_type": "code",
   "execution_count": 1,
   "id": "b1e8f5f3",
   "metadata": {},
   "outputs": [],
   "source": [
    "import os\n",
    "import json\n",
    "import time\n",
    "import numpy as np\n",
    "import pandas as pd\n",
    "\n",
    "from collections import defaultdict\n",
    "from collections import Counter\n",
    "\n",
    "import fasttext"
   ]
  },
  {
   "cell_type": "markdown",
   "id": "1945cd3d",
   "metadata": {},
   "source": [
    "## Data"
   ]
  },
  {
   "cell_type": "code",
   "execution_count": 2,
   "id": "8f8ca10d",
   "metadata": {},
   "outputs": [
    {
     "data": {
      "text/html": [
       "<div>\n",
       "<style scoped>\n",
       "    .dataframe tbody tr th:only-of-type {\n",
       "        vertical-align: middle;\n",
       "    }\n",
       "\n",
       "    .dataframe tbody tr th {\n",
       "        vertical-align: top;\n",
       "    }\n",
       "\n",
       "    .dataframe thead th {\n",
       "        text-align: right;\n",
       "    }\n",
       "</style>\n",
       "<table border=\"1\" class=\"dataframe\">\n",
       "  <thead>\n",
       "    <tr style=\"text-align: right;\">\n",
       "      <th></th>\n",
       "      <th>session</th>\n",
       "      <th>aid</th>\n",
       "      <th>ts</th>\n",
       "      <th>type</th>\n",
       "    </tr>\n",
       "  </thead>\n",
       "  <tbody>\n",
       "    <tr>\n",
       "      <th>0</th>\n",
       "      <td>0</td>\n",
       "      <td>1517085</td>\n",
       "      <td>1659304800025</td>\n",
       "      <td>clicks</td>\n",
       "    </tr>\n",
       "    <tr>\n",
       "      <th>1</th>\n",
       "      <td>0</td>\n",
       "      <td>1563459</td>\n",
       "      <td>1659304904511</td>\n",
       "      <td>clicks</td>\n",
       "    </tr>\n",
       "    <tr>\n",
       "      <th>2</th>\n",
       "      <td>0</td>\n",
       "      <td>1309446</td>\n",
       "      <td>1659367439426</td>\n",
       "      <td>clicks</td>\n",
       "    </tr>\n",
       "    <tr>\n",
       "      <th>3</th>\n",
       "      <td>0</td>\n",
       "      <td>16246</td>\n",
       "      <td>1659367719997</td>\n",
       "      <td>clicks</td>\n",
       "    </tr>\n",
       "    <tr>\n",
       "      <th>4</th>\n",
       "      <td>0</td>\n",
       "      <td>1781822</td>\n",
       "      <td>1659367871344</td>\n",
       "      <td>clicks</td>\n",
       "    </tr>\n",
       "  </tbody>\n",
       "</table>\n",
       "</div>"
      ],
      "text/plain": [
       "   session      aid             ts    type\n",
       "0        0  1517085  1659304800025  clicks\n",
       "1        0  1563459  1659304904511  clicks\n",
       "2        0  1309446  1659367439426  clicks\n",
       "3        0    16246  1659367719997  clicks\n",
       "4        0  1781822  1659367871344  clicks"
      ]
     },
     "execution_count": 2,
     "metadata": {},
     "output_type": "execute_result"
    }
   ],
   "source": [
    "data_path = '../data/train_sessions.jsonl'\n",
    "  \n",
    "train_sessions = pd.DataFrame()\n",
    "chunks = pd.read_json(data_path, lines=True, chunksize=100_000)\n",
    "\n",
    "for e, chunk in enumerate(chunks):\n",
    "    event_dict = {\n",
    "        'session': [],\n",
    "        'aid': [],\n",
    "        'ts': [],\n",
    "        'type': [],\n",
    "    }\n",
    "    if e < 2:\n",
    "        # train_sessions = pd.concat([train_sessions, chunk])\n",
    "        for session, events in zip(chunk['session'].tolist(), chunk['events'].tolist()):\n",
    "            for event in events:\n",
    "                event_dict['session'].append(session)\n",
    "                event_dict['aid'].append(event['aid'])\n",
    "                event_dict['ts'].append(event['ts'])\n",
    "                event_dict['type'].append(event['type'])\n",
    "        chunk_session = pd.DataFrame(event_dict)\n",
    "        train_sessions = pd.concat([train_sessions, chunk_session])\n",
    "    else:\n",
    "        break\n",
    "        \n",
    "train_sessions = train_sessions.reset_index(drop=True)\n",
    "train_sessions.head()"
   ]
  },
  {
   "cell_type": "code",
   "execution_count": 2,
   "id": "d74141e7",
   "metadata": {},
   "outputs": [
    {
     "data": {
      "text/html": [
       "<div>\n",
       "<style scoped>\n",
       "    .dataframe tbody tr th:only-of-type {\n",
       "        vertical-align: middle;\n",
       "    }\n",
       "\n",
       "    .dataframe tbody tr th {\n",
       "        vertical-align: top;\n",
       "    }\n",
       "\n",
       "    .dataframe thead th {\n",
       "        text-align: right;\n",
       "    }\n",
       "</style>\n",
       "<table border=\"1\" class=\"dataframe\">\n",
       "  <thead>\n",
       "    <tr style=\"text-align: right;\">\n",
       "      <th></th>\n",
       "      <th>session</th>\n",
       "      <th>aid</th>\n",
       "      <th>ts</th>\n",
       "      <th>type</th>\n",
       "    </tr>\n",
       "  </thead>\n",
       "  <tbody>\n",
       "    <tr>\n",
       "      <th>0</th>\n",
       "      <td>12383433</td>\n",
       "      <td>1542913</td>\n",
       "      <td>1661551200081</td>\n",
       "      <td>clicks</td>\n",
       "    </tr>\n",
       "    <tr>\n",
       "      <th>1</th>\n",
       "      <td>12383434</td>\n",
       "      <td>8211</td>\n",
       "      <td>1661551200511</td>\n",
       "      <td>clicks</td>\n",
       "    </tr>\n",
       "    <tr>\n",
       "      <th>2</th>\n",
       "      <td>12383435</td>\n",
       "      <td>940546</td>\n",
       "      <td>1661551201055</td>\n",
       "      <td>carts</td>\n",
       "    </tr>\n",
       "    <tr>\n",
       "      <th>3</th>\n",
       "      <td>12383435</td>\n",
       "      <td>45443</td>\n",
       "      <td>1661551213043</td>\n",
       "      <td>clicks</td>\n",
       "    </tr>\n",
       "    <tr>\n",
       "      <th>4</th>\n",
       "      <td>12383435</td>\n",
       "      <td>1769360</td>\n",
       "      <td>1661551246239</td>\n",
       "      <td>clicks</td>\n",
       "    </tr>\n",
       "  </tbody>\n",
       "</table>\n",
       "</div>"
      ],
      "text/plain": [
       "    session      aid             ts    type\n",
       "0  12383433  1542913  1661551200081  clicks\n",
       "1  12383434     8211  1661551200511  clicks\n",
       "2  12383435   940546  1661551201055   carts\n",
       "3  12383435    45443  1661551213043  clicks\n",
       "4  12383435  1769360  1661551246239  clicks"
      ]
     },
     "execution_count": 2,
     "metadata": {},
     "output_type": "execute_result"
    }
   ],
   "source": [
    "data_path = '../data/test_sessions.jsonl'\n",
    "  \n",
    "test_sessions = pd.DataFrame()\n",
    "chunks = pd.read_json(data_path, lines=True, chunksize=100_000)\n",
    "\n",
    "for e, chunk in enumerate(chunks):\n",
    "    event_dict = {\n",
    "        'session': [],\n",
    "        'aid': [],\n",
    "        'ts': [],\n",
    "        'type': [],\n",
    "    }\n",
    "    if e < 2:\n",
    "        # train_sessions = pd.concat([train_sessions, chunk])\n",
    "        for session, events in zip(chunk['session'].tolist(), chunk['events'].tolist()):\n",
    "            for event in events:\n",
    "                event_dict['session'].append(session)\n",
    "                event_dict['aid'].append(event['aid'])\n",
    "                event_dict['ts'].append(event['ts'])\n",
    "                event_dict['type'].append(event['type'])\n",
    "        chunk_session = pd.DataFrame(event_dict)\n",
    "        test_sessions = pd.concat([test_sessions, chunk_session])\n",
    "    else:\n",
    "        break\n",
    "        \n",
    "test_sessions = test_sessions.reset_index(drop=True)\n",
    "test_sessions.head()"
   ]
  },
  {
   "cell_type": "markdown",
   "id": "726e7e1b",
   "metadata": {},
   "source": [
    "## Baseline"
   ]
  },
  {
   "cell_type": "markdown",
   "id": "681cabf6",
   "metadata": {},
   "source": [
    "* Training"
   ]
  },
  {
   "cell_type": "code",
   "execution_count": 12,
   "id": "a1162565",
   "metadata": {},
   "outputs": [],
   "source": [
    "# Provided by https://www.kaggle.com/code/ttahara/otto-mors-aid-frequency-baseline/notebook?scriptVersionId=109781928\n",
    "sorted_ids_list = []\n",
    "test_sessions = pd.read_json('../data/test_sessions.jsonl', lines=True, chunksize=1000)\n",
    "\n",
    "for chunk in test_sessions:\n",
    "    for session_id, events in chunk.values:\n",
    "        \n",
    "        # All aids in the session\n",
    "        aid_list = []\n",
    "        for action in events:\n",
    "            aid_list.append(action[\"aid\"])\n",
    "            \n",
    "        # Sort aids by the count of aids in the session\n",
    "        cnt = Counter(aid_list)\n",
    "        sorted_aids = sorted(set(aid_list), key=lambda x: cnt[x], reverse=True)\n",
    "        sorted_ids_list.append([session_id, sorted_aids])"
   ]
  },
  {
   "cell_type": "markdown",
   "id": "8b629d48",
   "metadata": {},
   "source": [
    "* Prediction"
   ]
  },
  {
   "cell_type": "code",
   "execution_count": 16,
   "id": "bea2fe58",
   "metadata": {},
   "outputs": [],
   "source": [
    "data_list = []\n",
    "for session_id, sorted_aids in sorted_ids_list:\n",
    "    sorted_aids_20_str = \" \".join(map(str, sorted_aids[:20]))\n",
    "    data_list.append([f\"{session_id}_clicks\", sorted_aids_20_str])\n",
    "    data_list.append([f\"{session_id}_carts\", sorted_aids_20_str])\n",
    "    data_list.append([f\"{session_id}_orders\", sorted_aids_20_str])\n",
    "    \n",
    "result = pd.DataFrame(data_list, columns=[\"session_type\", \"labels\"])\n",
    "result.to_csv(\"../out/submission.csv\", index=False)"
   ]
  },
  {
   "cell_type": "code",
   "execution_count": 3,
   "id": "f8019ac2",
   "metadata": {},
   "outputs": [
    {
     "name": "stdout",
     "output_type": "stream",
     "text": [
      "Traceback (most recent call last):\r\n",
      "  File \"/Users/ruiqin/Desktop/Study/Projects/recsys/otto_recsys/notebook/../src/evaluate.py\", line 6, in <module>\r\n",
      "    from beartype import beartype\r\n",
      "ModuleNotFoundError: No module named 'beartype'\r\n"
     ]
    }
   ],
   "source": [
    "!python ../src/evaluate.py --test-labels ../data/test_labels.jsonl --predictions ../out/submission.csv"
   ]
  },
  {
   "cell_type": "markdown",
   "id": "d6c744ed",
   "metadata": {},
   "source": [
    "## Item2Vec"
   ]
  },
  {
   "cell_type": "markdown",
   "id": "e860ec6b",
   "metadata": {},
   "source": [
    "* Training sequence"
   ]
  },
  {
   "cell_type": "code",
   "execution_count": 4,
   "id": "5cee1122",
   "metadata": {},
   "outputs": [
    {
     "data": {
      "text/html": [
       "<div>\n",
       "<style scoped>\n",
       "    .dataframe tbody tr th:only-of-type {\n",
       "        vertical-align: middle;\n",
       "    }\n",
       "\n",
       "    .dataframe tbody tr th {\n",
       "        vertical-align: top;\n",
       "    }\n",
       "\n",
       "    .dataframe thead th {\n",
       "        text-align: right;\n",
       "    }\n",
       "</style>\n",
       "<table border=\"1\" class=\"dataframe\">\n",
       "  <thead>\n",
       "    <tr style=\"text-align: right;\">\n",
       "      <th></th>\n",
       "      <th>session</th>\n",
       "      <th>aid</th>\n",
       "    </tr>\n",
       "  </thead>\n",
       "  <tbody>\n",
       "    <tr>\n",
       "      <th>0</th>\n",
       "      <td>0</td>\n",
       "      <td>[1517085, 1563459, 1309446, 16246, 1781822, 11...</td>\n",
       "    </tr>\n",
       "    <tr>\n",
       "      <th>1</th>\n",
       "      <td>1</td>\n",
       "      <td>[424964, 1492293, 910862, 1491172, 424964, 151...</td>\n",
       "    </tr>\n",
       "    <tr>\n",
       "      <th>2</th>\n",
       "      <td>2</td>\n",
       "      <td>[763743, 137492, 504789, 137492, 795863, 37834...</td>\n",
       "    </tr>\n",
       "    <tr>\n",
       "      <th>3</th>\n",
       "      <td>3</td>\n",
       "      <td>[1425967, 1343406, 1425967, 1343406, 1815570, ...</td>\n",
       "    </tr>\n",
       "    <tr>\n",
       "      <th>4</th>\n",
       "      <td>4</td>\n",
       "      <td>[613619, 298827, 383828, 255379, 1838173, 1453...</td>\n",
       "    </tr>\n",
       "  </tbody>\n",
       "</table>\n",
       "</div>"
      ],
      "text/plain": [
       "   session                                                aid\n",
       "0        0  [1517085, 1563459, 1309446, 16246, 1781822, 11...\n",
       "1        1  [424964, 1492293, 910862, 1491172, 424964, 151...\n",
       "2        2  [763743, 137492, 504789, 137492, 795863, 37834...\n",
       "3        3  [1425967, 1343406, 1425967, 1343406, 1815570, ...\n",
       "4        4  [613619, 298827, 383828, 255379, 1838173, 1453..."
      ]
     },
     "execution_count": 4,
     "metadata": {},
     "output_type": "execute_result"
    }
   ],
   "source": [
    "aid_seq = train_sessions.sort_values([\"session\", \"ts\"]).reset_index(drop=True)\n",
    "aid_seq[\"aid_2\"] = aid_seq.aid.shift(1)\n",
    "aid_seq = aid_seq[aid_seq.aid != aid_seq.aid_2]\n",
    "aid_seq = aid_seq[[\"session\", \"aid\", \"ts\", \"type\"]]\n",
    "aid_seq[\"aid\"] = aid_seq[\"aid\"].astype(str)\n",
    "aid_seq = aid_seq.groupby([\"session\"]).agg(list)[\"aid\"].reset_index()\n",
    "aid_seq = aid_seq[(aid_seq.aid.apply(len) >= 5) & (aid_seq.aid.apply(len) <= 300)].reset_index(drop=True)\n",
    "aid_seq.head()"
   ]
  },
  {
   "cell_type": "code",
   "execution_count": 19,
   "id": "4155a859",
   "metadata": {},
   "outputs": [],
   "source": [
    "with open(\"../data/train_aid_seq.txt\", 'w') as f:\n",
    "    for aid_list in aid_seq.aid:\n",
    "        print(\"__label__1\", \" \".join(aid_list), file = f)"
   ]
  },
  {
   "cell_type": "markdown",
   "id": "f5a72f6a",
   "metadata": {},
   "source": [
    "* Training"
   ]
  },
  {
   "cell_type": "code",
   "execution_count": 22,
   "id": "13917e91",
   "metadata": {},
   "outputs": [
    {
     "name": "stderr",
     "output_type": "stream",
     "text": [
      "Read 7M words\n",
      "Number of words:  259512\n",
      "Number of labels: 1\n",
      "Progress: 100.0% words/sec/thread:   62867 lr:  0.000000 avg.loss:  3.302127 ETA:   0h 0m 0s\n"
     ]
    }
   ],
   "source": [
    "model = fasttext.train_unsupervised(\n",
    "    '../data/train_aid_seq.txt', \n",
    "    model = 'skipgram',\n",
    "    ws = 5,\n",
    "    dim = 128, \n",
    "    epoch = 3, \n",
    "    lr = 0.01,\n",
    "    minn = 0,\n",
    "    maxn = 0\n",
    ")"
   ]
  },
  {
   "cell_type": "code",
   "execution_count": 43,
   "id": "f99f8825",
   "metadata": {},
   "outputs": [],
   "source": [
    "embeddings = {}\n",
    "for i in model.words:\n",
    "    embeddings[i] = model[i]"
   ]
  },
  {
   "cell_type": "markdown",
   "id": "ab84a961",
   "metadata": {},
   "source": [
    "* Ann index"
   ]
  },
  {
   "cell_type": "code",
   "execution_count": null,
   "id": "111ee27a",
   "metadata": {},
   "outputs": [],
   "source": []
  }
 ],
 "metadata": {
  "kernelspec": {
   "display_name": "Python 3 (ipykernel)",
   "language": "python",
   "name": "python3"
  },
  "language_info": {
   "codemirror_mode": {
    "name": "ipython",
    "version": 3
   },
   "file_extension": ".py",
   "mimetype": "text/x-python",
   "name": "python",
   "nbconvert_exporter": "python",
   "pygments_lexer": "ipython3",
   "version": "3.9.13"
  }
 },
 "nbformat": 4,
 "nbformat_minor": 5
}
