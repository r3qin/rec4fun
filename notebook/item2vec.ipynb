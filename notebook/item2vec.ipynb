{
 "cells": [
  {
   "cell_type": "code",
   "execution_count": 1,
   "id": "4b6479d5",
   "metadata": {},
   "outputs": [],
   "source": [
    "import os\n",
    "import json\n",
    "import time\n",
    "import numpy as np\n",
    "import pandas as pd\n",
    "\n",
    "import fasttext\n",
    "import faiss\n",
    "\n",
    "from tqdm.auto import tqdm"
   ]
  },
  {
   "cell_type": "markdown",
   "id": "fbb93e6e",
   "metadata": {},
   "source": [
    "## Data"
   ]
  },
  {
   "cell_type": "code",
   "execution_count": 2,
   "id": "8bbcd74c",
   "metadata": {},
   "outputs": [
    {
     "data": {
      "text/html": [
       "<div>\n",
       "<style scoped>\n",
       "    .dataframe tbody tr th:only-of-type {\n",
       "        vertical-align: middle;\n",
       "    }\n",
       "\n",
       "    .dataframe tbody tr th {\n",
       "        vertical-align: top;\n",
       "    }\n",
       "\n",
       "    .dataframe thead th {\n",
       "        text-align: right;\n",
       "    }\n",
       "</style>\n",
       "<table border=\"1\" class=\"dataframe\">\n",
       "  <thead>\n",
       "    <tr style=\"text-align: right;\">\n",
       "      <th></th>\n",
       "      <th>session</th>\n",
       "      <th>aid</th>\n",
       "      <th>ts</th>\n",
       "      <th>type</th>\n",
       "    </tr>\n",
       "  </thead>\n",
       "  <tbody>\n",
       "    <tr>\n",
       "      <th>0</th>\n",
       "      <td>0</td>\n",
       "      <td>1517085</td>\n",
       "      <td>1659304800025</td>\n",
       "      <td>clicks</td>\n",
       "    </tr>\n",
       "    <tr>\n",
       "      <th>1</th>\n",
       "      <td>0</td>\n",
       "      <td>1563459</td>\n",
       "      <td>1659304904511</td>\n",
       "      <td>clicks</td>\n",
       "    </tr>\n",
       "    <tr>\n",
       "      <th>2</th>\n",
       "      <td>0</td>\n",
       "      <td>1309446</td>\n",
       "      <td>1659367439426</td>\n",
       "      <td>clicks</td>\n",
       "    </tr>\n",
       "    <tr>\n",
       "      <th>3</th>\n",
       "      <td>0</td>\n",
       "      <td>16246</td>\n",
       "      <td>1659367719997</td>\n",
       "      <td>clicks</td>\n",
       "    </tr>\n",
       "    <tr>\n",
       "      <th>4</th>\n",
       "      <td>0</td>\n",
       "      <td>1781822</td>\n",
       "      <td>1659367871344</td>\n",
       "      <td>clicks</td>\n",
       "    </tr>\n",
       "  </tbody>\n",
       "</table>\n",
       "</div>"
      ],
      "text/plain": [
       "   session      aid             ts    type\n",
       "0        0  1517085  1659304800025  clicks\n",
       "1        0  1563459  1659304904511  clicks\n",
       "2        0  1309446  1659367439426  clicks\n",
       "3        0    16246  1659367719997  clicks\n",
       "4        0  1781822  1659367871344  clicks"
      ]
     },
     "execution_count": 2,
     "metadata": {},
     "output_type": "execute_result"
    }
   ],
   "source": [
    "data_path = '../data/train_sessions.jsonl'\n",
    "  \n",
    "train_sessions = pd.DataFrame()\n",
    "chunks = pd.read_json(data_path, lines=True, chunksize=100_000)\n",
    "\n",
    "for e, chunk in enumerate(chunks):\n",
    "    event_dict = {\n",
    "        'session': [],\n",
    "        'aid': [],\n",
    "        'ts': [],\n",
    "        'type': [],\n",
    "    }\n",
    "    if e < 2:\n",
    "        # train_sessions = pd.concat([train_sessions, chunk])\n",
    "        for session, events in zip(chunk['session'].tolist(), chunk['events'].tolist()):\n",
    "            for event in events:\n",
    "                event_dict['session'].append(session)\n",
    "                event_dict['aid'].append(event['aid'])\n",
    "                event_dict['ts'].append(event['ts'])\n",
    "                event_dict['type'].append(event['type'])\n",
    "        chunk_session = pd.DataFrame(event_dict)\n",
    "        train_sessions = pd.concat([train_sessions, chunk_session])\n",
    "    else:\n",
    "        break\n",
    "        \n",
    "train_sessions = train_sessions.reset_index(drop=True)\n",
    "train_sessions.head()"
   ]
  },
  {
   "cell_type": "code",
   "execution_count": 3,
   "id": "4a7fc81c",
   "metadata": {},
   "outputs": [
    {
     "data": {
      "text/html": [
       "<div>\n",
       "<style scoped>\n",
       "    .dataframe tbody tr th:only-of-type {\n",
       "        vertical-align: middle;\n",
       "    }\n",
       "\n",
       "    .dataframe tbody tr th {\n",
       "        vertical-align: top;\n",
       "    }\n",
       "\n",
       "    .dataframe thead th {\n",
       "        text-align: right;\n",
       "    }\n",
       "</style>\n",
       "<table border=\"1\" class=\"dataframe\">\n",
       "  <thead>\n",
       "    <tr style=\"text-align: right;\">\n",
       "      <th></th>\n",
       "      <th>session</th>\n",
       "      <th>aid</th>\n",
       "      <th>ts</th>\n",
       "      <th>type</th>\n",
       "    </tr>\n",
       "  </thead>\n",
       "  <tbody>\n",
       "    <tr>\n",
       "      <th>0</th>\n",
       "      <td>12383433</td>\n",
       "      <td>1542913</td>\n",
       "      <td>1661551200081</td>\n",
       "      <td>clicks</td>\n",
       "    </tr>\n",
       "    <tr>\n",
       "      <th>1</th>\n",
       "      <td>12383434</td>\n",
       "      <td>8211</td>\n",
       "      <td>1661551200511</td>\n",
       "      <td>clicks</td>\n",
       "    </tr>\n",
       "    <tr>\n",
       "      <th>2</th>\n",
       "      <td>12383435</td>\n",
       "      <td>940546</td>\n",
       "      <td>1661551201055</td>\n",
       "      <td>carts</td>\n",
       "    </tr>\n",
       "    <tr>\n",
       "      <th>3</th>\n",
       "      <td>12383435</td>\n",
       "      <td>45443</td>\n",
       "      <td>1661551213043</td>\n",
       "      <td>clicks</td>\n",
       "    </tr>\n",
       "    <tr>\n",
       "      <th>4</th>\n",
       "      <td>12383435</td>\n",
       "      <td>1769360</td>\n",
       "      <td>1661551246239</td>\n",
       "      <td>clicks</td>\n",
       "    </tr>\n",
       "  </tbody>\n",
       "</table>\n",
       "</div>"
      ],
      "text/plain": [
       "    session      aid             ts    type\n",
       "0  12383433  1542913  1661551200081  clicks\n",
       "1  12383434     8211  1661551200511  clicks\n",
       "2  12383435   940546  1661551201055   carts\n",
       "3  12383435    45443  1661551213043  clicks\n",
       "4  12383435  1769360  1661551246239  clicks"
      ]
     },
     "execution_count": 3,
     "metadata": {},
     "output_type": "execute_result"
    }
   ],
   "source": [
    "data_path = '../data/test_sessions.jsonl'\n",
    "  \n",
    "test_sessions = pd.DataFrame()\n",
    "chunks = pd.read_json(data_path, lines=True, chunksize=100_000)\n",
    "\n",
    "for e, chunk in enumerate(chunks):\n",
    "    event_dict = {\n",
    "        'session': [],\n",
    "        'aid': [],\n",
    "        'ts': [],\n",
    "        'type': [],\n",
    "    }\n",
    "    if e < 2:\n",
    "        # train_sessions = pd.concat([train_sessions, chunk])\n",
    "        for session, events in zip(chunk['session'].tolist(), chunk['events'].tolist()):\n",
    "            for event in events:\n",
    "                event_dict['session'].append(session)\n",
    "                event_dict['aid'].append(event['aid'])\n",
    "                event_dict['ts'].append(event['ts'])\n",
    "                event_dict['type'].append(event['type'])\n",
    "        chunk_session = pd.DataFrame(event_dict)\n",
    "        test_sessions = pd.concat([test_sessions, chunk_session])\n",
    "    else:\n",
    "        break\n",
    "        \n",
    "test_sessions = test_sessions.reset_index(drop=True)\n",
    "test_sessions.head()"
   ]
  },
  {
   "cell_type": "markdown",
   "id": "8dbcf330",
   "metadata": {},
   "source": [
    "## Training sequence"
   ]
  },
  {
   "cell_type": "code",
   "execution_count": 4,
   "id": "9a7231af",
   "metadata": {},
   "outputs": [
    {
     "data": {
      "text/html": [
       "<div>\n",
       "<style scoped>\n",
       "    .dataframe tbody tr th:only-of-type {\n",
       "        vertical-align: middle;\n",
       "    }\n",
       "\n",
       "    .dataframe tbody tr th {\n",
       "        vertical-align: top;\n",
       "    }\n",
       "\n",
       "    .dataframe thead th {\n",
       "        text-align: right;\n",
       "    }\n",
       "</style>\n",
       "<table border=\"1\" class=\"dataframe\">\n",
       "  <thead>\n",
       "    <tr style=\"text-align: right;\">\n",
       "      <th></th>\n",
       "      <th>session</th>\n",
       "      <th>aid</th>\n",
       "    </tr>\n",
       "  </thead>\n",
       "  <tbody>\n",
       "    <tr>\n",
       "      <th>0</th>\n",
       "      <td>0</td>\n",
       "      <td>[1517085, 1563459, 1309446, 16246, 1781822, 11...</td>\n",
       "    </tr>\n",
       "    <tr>\n",
       "      <th>1</th>\n",
       "      <td>1</td>\n",
       "      <td>[424964, 1492293, 910862, 1491172, 424964, 151...</td>\n",
       "    </tr>\n",
       "    <tr>\n",
       "      <th>2</th>\n",
       "      <td>2</td>\n",
       "      <td>[763743, 137492, 504789, 137492, 795863, 37834...</td>\n",
       "    </tr>\n",
       "    <tr>\n",
       "      <th>3</th>\n",
       "      <td>3</td>\n",
       "      <td>[1425967, 1343406, 1425967, 1343406, 1815570, ...</td>\n",
       "    </tr>\n",
       "    <tr>\n",
       "      <th>4</th>\n",
       "      <td>4</td>\n",
       "      <td>[613619, 298827, 383828, 255379, 1838173, 1453...</td>\n",
       "    </tr>\n",
       "  </tbody>\n",
       "</table>\n",
       "</div>"
      ],
      "text/plain": [
       "   session                                                aid\n",
       "0        0  [1517085, 1563459, 1309446, 16246, 1781822, 11...\n",
       "1        1  [424964, 1492293, 910862, 1491172, 424964, 151...\n",
       "2        2  [763743, 137492, 504789, 137492, 795863, 37834...\n",
       "3        3  [1425967, 1343406, 1425967, 1343406, 1815570, ...\n",
       "4        4  [613619, 298827, 383828, 255379, 1838173, 1453..."
      ]
     },
     "execution_count": 4,
     "metadata": {},
     "output_type": "execute_result"
    }
   ],
   "source": [
    "aid_seq = train_sessions.sort_values([\"session\", \"ts\"]).reset_index(drop=True)\n",
    "aid_seq[\"aid_2\"] = aid_seq.aid.shift(1)\n",
    "aid_seq = aid_seq[aid_seq.aid != aid_seq.aid_2]\n",
    "aid_seq = aid_seq[[\"session\", \"aid\", \"ts\", \"type\"]]\n",
    "aid_seq[\"aid\"] = aid_seq[\"aid\"].astype(str)\n",
    "aid_seq = aid_seq.groupby([\"session\"]).agg(list)[\"aid\"].reset_index()\n",
    "aid_seq = aid_seq[(aid_seq.aid.apply(len) >= 5) & (aid_seq.aid.apply(len) <= 300)].reset_index(drop=True)\n",
    "aid_seq.head()"
   ]
  },
  {
   "cell_type": "code",
   "execution_count": 5,
   "id": "3095cdd0",
   "metadata": {},
   "outputs": [],
   "source": [
    "with open(\"../data/train_aid_seq.txt\", 'w') as f:\n",
    "    for aid_list in aid_seq.aid:\n",
    "        print(\"__label__1\", \" \".join(aid_list), file = f)"
   ]
  },
  {
   "cell_type": "markdown",
   "id": "e794dd10",
   "metadata": {},
   "source": [
    "## Training"
   ]
  },
  {
   "cell_type": "code",
   "execution_count": 11,
   "id": "58a3c028",
   "metadata": {},
   "outputs": [
    {
     "name": "stderr",
     "output_type": "stream",
     "text": [
      "Read 7M words\n",
      "Number of words:  259512\n",
      "Number of labels: 1\n",
      "Progress: 100.0% words/sec/thread:  101397 lr:  0.000000 avg.loss:  2.761024 ETA:   0h 0m 0s\n"
     ]
    }
   ],
   "source": [
    "model = fasttext.train_unsupervised(\n",
    "    '../data/train_aid_seq.txt', \n",
    "    model = 'skipgram',\n",
    "    ws = 5,\n",
    "    dim = 64, \n",
    "    epoch = 5, \n",
    "    lr = 0.01,\n",
    "    minn = 0,\n",
    "    maxn = 0\n",
    ")"
   ]
  },
  {
   "cell_type": "markdown",
   "id": "e1cb9db8",
   "metadata": {},
   "source": [
    "## ANN index"
   ]
  },
  {
   "cell_type": "markdown",
   "id": "135b0feb",
   "metadata": {},
   "source": [
    "### Method 1 (out of memory)"
   ]
  },
  {
   "cell_type": "code",
   "execution_count": 9,
   "id": "f81c347b",
   "metadata": {},
   "outputs": [
    {
     "data": {
      "application/vnd.jupyter.widget-view+json": {
       "model_id": "006e3038e72a4580a16d1dbfb37b36c1",
       "version_major": 2,
       "version_minor": 0
      },
      "text/plain": [
       "0it [00:00, ?it/s]"
      ]
     },
     "metadata": {},
     "output_type": "display_data"
    }
   ],
   "source": [
    "item_dict = {}\n",
    "embeddings = []\n",
    "for i, item_id in enumerate(model.words):\n",
    "    if item_id != '</s>':\n",
    "        item_dict[i-1] = item_id\n",
    "        embeddings.append(model[item_id])\n",
    "    \n",
    "index_data = np.array(embeddings)\n",
    "faiss.normalize_L2(index_data)\n",
    "index = faiss.IndexHNSWFlat(128, 32, faiss.METRIC_INNER_PRODUCT)\n",
    "\n",
    "index.add(index_data)\n",
    "sim_matrix, candidate_ids_matrix = index.search(index_data, 20)\n",
    "\n",
    "sim_index = []\n",
    "for idx, candidate_ids in tqdm(enumerate(candidate_ids_matrix)):\n",
    "    sims = sim_matrix[idx]\n",
    "    candidates = list(zip(candidate_ids, sims))\n",
    "    candidates = list(filter(lambda x: x[0] != idx, candidates))\n",
    "    candidates = list(filter(lambda x: x[0] in item_dict, candidates))\n",
    "    sim_index.extend([(item_dict[idx], item_dict[x[0]], float(x[1])) for x in candidates])"
   ]
  },
  {
   "cell_type": "code",
   "execution_count": null,
   "id": "91812b12",
   "metadata": {},
   "outputs": [],
   "source": [
    "from pyspark.sql import SparkSession\n",
    "\n",
    "# SparkSession\n",
    "spark = SparkSession.builder \\\n",
    "    .master(\"local\") \\\n",
    "    .appName(\"item2vec\") \\\n",
    "    .getOrCreate()\n",
    "\n",
    "# Similariy table and sessions \n",
    "sim_table = spark.createDataFrame(sim_index).toDF(\"trigger_id\", \"sim_id\", \"score\")\n",
    "sessions = spark.createDataFrame(test_sessions)\n",
    "\n",
    "# To temp view\n",
    "sim_table.createOrReplaceTempView(\"sim_table\")\n",
    "sessions.createOrReplaceTempView(\"test_sessions\")\n",
    "sim_table.show(5)"
   ]
  },
  {
   "cell_type": "code",
   "execution_count": null,
   "id": "ed6fa94e",
   "metadata": {},
   "outputs": [],
   "source": [
    "querySQL = \"\"\"\n",
    "    WITH sim AS (\n",
    "        SELECT\n",
    "            *\n",
    "        FROM\n",
    "            sim_table\n",
    "    ),\n",
    "    session AS (\n",
    "        SELECT\n",
    "            session,\n",
    "            aid\n",
    "        FROM\n",
    "            test_sessions\n",
    "    ),\n",
    "    preds AS (\n",
    "        SELECT\n",
    "            session,\n",
    "            sim_id,\n",
    "            SUM(score) AS score\n",
    "        FROM (\n",
    "            SELECT\n",
    "                session,\n",
    "                sim_id,\n",
    "                score\n",
    "            FROM\n",
    "                session LEFT JOIN sim ON session.aid = sim.trigger_id\n",
    "        ) t\n",
    "        GROUP BY\n",
    "            session,\n",
    "            sim_id\n",
    "    )\n",
    "    SELECT\n",
    "        session,\n",
    "        sim_id,\n",
    "        score\n",
    "    FROM (\n",
    "        SELECT\n",
    "            session,\n",
    "            sim_id,\n",
    "            score,\n",
    "            ROW_NUMBER() OVER (PARTITION BY session ORDER BY score DESC) AS rn\n",
    "        FROM\n",
    "            preds\n",
    "    ) t\n",
    "    WHERE\n",
    "        rn <= 20\n",
    "    ORDER BY\n",
    "        session ASC,\n",
    "        score DESC\n",
    "\"\"\"\n",
    "\n",
    "preds = spark.sql(querySQL).toPandas()"
   ]
  },
  {
   "cell_type": "markdown",
   "id": "b296682d",
   "metadata": {},
   "source": [
    "### Method 2"
   ]
  },
  {
   "cell_type": "code",
   "execution_count": 12,
   "id": "03c808f2",
   "metadata": {},
   "outputs": [],
   "source": [
    "# Compute session embeddings\n",
    "session_embeddings_df = test_sessions[[\"session\", \"aid\"]].copy()\n",
    "session_embeddings_df[\"embedding\"] = session_embeddings_df.aid.apply(lambda x: model[str(x)])\n",
    "session_embeddings_df = session_embeddings_df \\\n",
    "    .groupby([\"session\"]) \\\n",
    "    .agg(lambda x: np.mean(x, axis=0))[\"embedding\"] \\\n",
    "    .reset_index()"
   ]
  },
  {
   "cell_type": "code",
   "execution_count": 16,
   "id": "b0433ef1",
   "metadata": {},
   "outputs": [
    {
     "data": {
      "application/vnd.jupyter.widget-view+json": {
       "model_id": "4d62e74a734d4e3b90ab079d96d69e16",
       "version_major": 2,
       "version_minor": 0
      },
      "text/plain": [
       "0it [00:00, ?it/s]"
      ]
     },
     "metadata": {},
     "output_type": "display_data"
    }
   ],
   "source": [
    "item_dict = {}\n",
    "embeddings = []\n",
    "for i, item_id in enumerate(model.words):\n",
    "    if item_id != '</s>':\n",
    "        item_dict[i-1] = item_id\n",
    "        embeddings.append(model[item_id])\n",
    "\n",
    "session_dict = dict(zip(session_embeddings_df.session.index, session_embeddings_df.session.astype(str)))\n",
    "session_embedding = np.array(session_embeddings_df.embedding.tolist())\n",
    "    \n",
    "index_data = np.array(embeddings)\n",
    "faiss.normalize_L2(index_data)\n",
    "faiss.normalize_L2(session_embedding)\n",
    "index = faiss.IndexHNSWFlat(64, 32, faiss.METRIC_INNER_PRODUCT)\n",
    "\n",
    "index.add(index_data)\n",
    "sim_matrix, candidate_ids_matrix = index.search(session_embedding, 20)\n",
    "\n",
    "sim_index = []\n",
    "for idx, candidate_ids in tqdm(enumerate(candidate_ids_matrix)):\n",
    "    sims = sim_matrix[idx]\n",
    "    candidates = list(zip(candidate_ids, sims))\n",
    "    candidates = list(filter(lambda x: x[0] in item_dict, candidates))\n",
    "    \n",
    "    preds = []\n",
    "    for cand in candidates:\n",
    "        preds.append(item_dict[cand[0]])\n",
    "    sim_index.append([session_dict[idx] + \"_clicks\", \" \".join(preds)])\n",
    "    sim_index.append([session_dict[idx] + \"_carts\", \" \".join(preds)])\n",
    "    sim_index.append([session_dict[idx] + \"_orders\", \" \".join(preds)])"
   ]
  },
  {
   "cell_type": "code",
   "execution_count": 17,
   "id": "e8678a50",
   "metadata": {},
   "outputs": [],
   "source": [
    "submission = pd.DataFrame(sim_index, columns=[\"session_type\", \"labels\"])\n",
    "submission.to_csv(\"../out/i2v_submission.csv\", index=False)"
   ]
  },
  {
   "cell_type": "code",
   "execution_count": null,
   "id": "0d0df9df",
   "metadata": {},
   "outputs": [],
   "source": []
  }
 ],
 "metadata": {
  "kernelspec": {
   "display_name": "Python 3 (ipykernel)",
   "language": "python",
   "name": "python3"
  },
  "language_info": {
   "codemirror_mode": {
    "name": "ipython",
    "version": 3
   },
   "file_extension": ".py",
   "mimetype": "text/x-python",
   "name": "python",
   "nbconvert_exporter": "python",
   "pygments_lexer": "ipython3",
   "version": "3.9.13"
  }
 },
 "nbformat": 4,
 "nbformat_minor": 5
}
